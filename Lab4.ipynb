{
 "metadata": {
  "language_info": {
   "codemirror_mode": {
    "name": "ipython",
    "version": 3
   },
   "file_extension": ".py",
   "mimetype": "text/x-python",
   "name": "python",
   "nbconvert_exporter": "python",
   "pygments_lexer": "ipython3",
   "version": "3.8.6-candidate"
  },
  "orig_nbformat": 2,
  "kernelspec": {
   "name": "python3",
   "display_name": "Python 3.8.6 64-bit",
   "metadata": {
    "interpreter": {
     "hash": "c61731d8f7c4f1da77cbad515f8c2ebe6cb7e230b50f067f2e33022859eb5993"
    }
   }
  }
 },
 "nbformat": 4,
 "nbformat_minor": 2,
 "cells": [
  {
   "cell_type": "code",
   "execution_count": 1,
   "metadata": {},
   "outputs": [],
   "source": [
    "import numpy as np\n",
    "import pandas as pd\n",
    "import matplotlib.pyplot as plt"
   ]
  },
  {
   "source": [
    "## 1. Leer el archivo e ingresarlo en un numpy array"
   ],
   "cell_type": "markdown",
   "metadata": {}
  },
  {
   "cell_type": "code",
   "execution_count": 14,
   "metadata": {},
   "outputs": [],
   "source": [
    "df = pd.read_csv('kc_house_data.csv')\n",
    "x = np.array(df.loc[:,['sqft_living']].copy())\n",
    "y = np.array(df.loc[:,['price']].copy())"
   ]
  },
  {
   "source": [
    "## 2. Implementar el descenso del gradiente "
   ],
   "cell_type": "markdown",
   "metadata": {}
  },
  {
   "source": [
    "Computar el algoritmo"
   ],
   "cell_type": "markdown",
   "metadata": {}
  },
  {
   "cell_type": "code",
   "execution_count": 15,
   "metadata": {},
   "outputs": [],
   "source": [
    "def linear_cost(X, y, theta):\n",
    "    h = X @ theta\n",
    "    return ((h - y) ** 2).sum() / (2*len(X))\n",
    "\n",
    "def linear_cost_gradient(X, y, theta):\n",
    "    h = X @ theta\n",
    "    return ((h - y).T @ X).T / (2*len(X))\n",
    "\n",
    "def gradient_descent(\n",
    "    X, y, theta_0, \n",
    "    cost_function, cost_function_gradient,\n",
    "    learning_rate, threshold,\n",
    "    max_iter=1000\n",
    "):\n",
    "    theta = theta_0\n",
    "    iteration = 0\n",
    "    costs = []\n",
    "    thetas = []\n",
    "\n",
    "    while np.linalg.norm(cost_function_gradient(X, y, theta)) > threshold and iteration < max_iter:\n",
    "        iteration += 1\n",
    "        theta -= learning_rate * cost_function_gradient(X, y, theta)\n",
    "        costs.append(theta-learning_rate * cost_function_gradient(X, y, theta))\n",
    "        thetas.append(theta.copy())\n",
    "\n",
    "    return theta, costs, thetas\n"
   ]
  },
  {
   "source": [
    "## 3. Determinar el mejor modelo con Cross Validation"
   ],
   "cell_type": "markdown",
   "metadata": {}
  },
  {
   "cell_type": "code",
   "execution_count": 39,
   "metadata": {},
   "outputs": [],
   "source": [
    "np.random.shuffle(x)\n",
    "np.random.shuffle(y)"
   ]
  },
  {
   "cell_type": "code",
   "execution_count": 40,
   "metadata": {},
   "outputs": [
    {
     "output_type": "stream",
     "name": "stdout",
     "text": [
      "Rango del train: 0 - 15129 ,rango del CV:  15130  -  18371 , rango del test:  18372  -  21613\n"
     ]
    }
   ],
   "source": [
    "r1 = round(x.shape[0]*0.70)\n",
    "r2 = r1 + round(x.shape[0]*0.15)\n",
    "r3 = r2 + round(x.shape[0]*0.15)\n",
    "\n",
    "print('Rango del train: 0 -',str(r1), ',rango del CV: ',str(r1+1),' - ',str(r2), ', rango del test: ',str(r2+1),' - ',str(x.shape[0]))\n"
   ]
  },
  {
   "source": [
    "Porción de train"
   ],
   "cell_type": "markdown",
   "metadata": {}
  },
  {
   "cell_type": "code",
   "execution_count": 41,
   "metadata": {},
   "outputs": [],
   "source": [
    "X_train = np.hstack(\n",
    "    (\n",
    "        np.ones(r1).reshape(r1, 1),\n",
    "        x[:r1],\n",
    "    )\n",
    ")\n",
    "m, n = X_train.shape\n",
    "theta_0 = np.random.rand(n, 1)\n",
    "y_train = y[:r1]"
   ]
  },
  {
   "source": [
    "Valores para manipular en el descenso del gradiente"
   ],
   "cell_type": "markdown",
   "metadata": {}
  },
  {
   "cell_type": "code",
   "execution_count": 71,
   "metadata": {},
   "outputs": [],
   "source": [
    "v1 = (0.0000001, 0.01)\n",
    "v2 = (0.0000000001, 0.0001)"
   ]
  },
  {
   "source": [
    "Probar con distintos valores"
   ],
   "cell_type": "markdown",
   "metadata": {}
  },
  {
   "cell_type": "code",
   "execution_count": 72,
   "metadata": {},
   "outputs": [],
   "source": [
    "r_theta, costs, thetas = gradient_descent(\n",
    "    X_train, y_train, theta_0,\n",
    "    linear_cost,\n",
    "    linear_cost_gradient,\n",
    "    learning_rate=v1[0],\n",
    "    threshold=v1[1]\n",
    ")"
   ]
  },
  {
   "cell_type": "code",
   "execution_count": 73,
   "metadata": {},
   "outputs": [],
   "source": [
    "r_theta, costs, thetas = gradient_descent(\n",
    "    X_train, y_train, theta_0,\n",
    "    linear_cost,\n",
    "    linear_cost_gradient,\n",
    "    learning_rate=v2[0],\n",
    "    threshold=v2[1]\n",
    ")"
   ]
  },
  {
   "source": [
    "## Verificación con cross validation"
   ],
   "cell_type": "markdown",
   "metadata": {}
  },
  {
   "source": [
    "Porción de test"
   ],
   "cell_type": "markdown",
   "metadata": {}
  },
  {
   "cell_type": "code",
   "execution_count": 74,
   "metadata": {},
   "outputs": [],
   "source": [
    "# modelo 1\n",
    "X_test = np.hstack(\n",
    "    (\n",
    "        np.ones(r2 - r1 - 1).reshape(r2 - r1 - 1, 1),\n",
    "        x[r1:r2-1],\n",
    "    )\n",
    ")\n",
    "m, n = X_test.shape\n",
    "theta_0 = np.random.rand(n, 1)\n",
    "y_test = y[r1:r2-1]\n",
    "\n",
    "r_theta, costs, thetas = gradient_descent(\n",
    "    X_test, y_test, theta_0,\n",
    "    linear_cost,\n",
    "    linear_cost_gradient,\n",
    "    learning_rate=v1[0],\n",
    "    threshold=v1[1]\n",
    ")"
   ]
  },
  {
   "cell_type": "code",
   "execution_count": 75,
   "metadata": {},
   "outputs": [],
   "source": [
    "# modelo 2\n",
    "X_test = np.hstack(\n",
    "    (\n",
    "        np.ones(r2 - r1 - 1).reshape(r2 - r1 - 1, 1),\n",
    "        x[r1:r2-1],\n",
    "    )\n",
    ")\n",
    "m, n = X_test.shape\n",
    "theta_0 = np.random.rand(n, 1)\n",
    "y_test = y[r1:r2-1]\n",
    "\n",
    "r_theta, costs, thetas = gradient_descent(\n",
    "    X_test, y_test, theta_0,\n",
    "    linear_cost,\n",
    "    linear_cost_gradient,\n",
    "    learning_rate=v2[0],\n",
    "    threshold=v2[1]\n",
    ")"
   ]
  },
  {
   "source": [
    "Porción de CV"
   ],
   "cell_type": "markdown",
   "metadata": {}
  },
  {
   "cell_type": "code",
   "execution_count": 76,
   "metadata": {},
   "outputs": [],
   "source": [
    "# modelo 1\n",
    "X_test = np.hstack(\n",
    "    (\n",
    "        np.ones(r3 - r2 - 1).reshape(r3 - r2 - 1, 1),\n",
    "        x[r2:r3-1],\n",
    "    )\n",
    ")\n",
    "m, n = X_test.shape\n",
    "theta_0 = np.random.rand(n, 1)\n",
    "y_test = y[r2:r3-1]\n",
    "\n",
    "r_theta, costs, thetas = gradient_descent(\n",
    "    X_test, y_test, theta_0,\n",
    "    linear_cost,\n",
    "    linear_cost_gradient,\n",
    "    learning_rate=v1[0],\n",
    "    threshold=v1[1]\n",
    ")"
   ]
  },
  {
   "cell_type": "code",
   "execution_count": 77,
   "metadata": {},
   "outputs": [],
   "source": [
    "# modelo 2\n",
    "X_test = np.hstack(\n",
    "    (\n",
    "        np.ones(r3 - r2 - 1).reshape(r3 - r2 - 1, 1),\n",
    "        x[r2:r3-1],\n",
    "    )\n",
    ")\n",
    "m, n = X_test.shape\n",
    "theta_0 = np.random.rand(n, 1)\n",
    "y_test = y[r2:r3-1]\n",
    "\n",
    "r_theta, costs, thetas = gradient_descent(\n",
    "    X_test, y_test, theta_0,\n",
    "    linear_cost,\n",
    "    linear_cost_gradient,\n",
    "    learning_rate=v1[0],\n",
    "    threshold=v1[1]\n",
    ")"
   ]
  }
 ]
}